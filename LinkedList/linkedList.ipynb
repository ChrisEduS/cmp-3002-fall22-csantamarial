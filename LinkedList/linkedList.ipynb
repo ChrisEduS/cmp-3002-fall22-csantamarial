{
 "cells": [
  {
   "cell_type": "code",
   "execution_count": 7,
   "metadata": {},
   "outputs": [],
   "source": [
    "class Node:\n",
    "    \"\"\"\n",
    "    Implementation of a node\n",
    "    \"\"\"\n",
    "    def __init__(self, val=None):\n",
    "        self.val = val\n",
    "        self.next_node = None\n",
    "    \n",
    "    def set_next_node(self, next_node):\n",
    "        self.next_node = next_node\n",
    "        \n",
    "class Singly_linked_list:\n",
    "    \"\"\"\n",
    "    Implementation of a singly linked list\n",
    "    \"\"\"\n",
    "    def __init__(self, head_node=None):\n",
    "        self.head_node = head_node\n",
    "        \n",
    "    def list_traversed(self):\n",
    "        node = self.head_node\n",
    "        while node:\n",
    "            print(node.val)\n",
    "            node = node.next_node\n",
    "class Singly_linked_list(Singly_linked_list):\n",
    "    def insert_head(self, new_node):\n",
    "        # insert to the head\n",
    "        # A -> B -> null\n",
    "        # R -> A -> B -> null \n",
    "        new_node.set_next_node(self.head_node)\n",
    "        self.head_node = new_node\n",
    "        \n",
    "    def insert_tail(self, new_node):\n",
    "        # insert to the tail\n",
    "        # A -> B -> null\n",
    "        # A -> B -> R -> null \n",
    "        node = self.head_node\n",
    "        prev = None\n",
    "        while node:\n",
    "            prev = node\n",
    "            node = node.next_node\n",
    "        prev.set_next_node(new_node)\n",
    "        \n",
    "    def insert_middle(self, new_node, value):\n",
    "        # insert in the middle\n",
    "        # A -> B -> C -> null\n",
    "        # A -> B -> R -> C -> null\n",
    "        node = self.head_node\n",
    "        while node.val != value:\n",
    "            node = node.next_node\n",
    "        if node:\n",
    "            new_node.set_next_node(node.next_node)\n",
    "            node.set_next_node(new_node)\n",
    "        else:\n",
    "            self.insert_tail(new_node)\n",
    "    def delete_node(self, value):\n",
    "        prev = self.head_node\n",
    "        node = prev.next_node\n",
    "\n",
    "        if prev.val == value:\n",
    "            self.head_node = self.head_node.next_node\n",
    "            prev.next_node = None\n",
    "        else:\n",
    "            while node.val != value:\n",
    "                prev = node\n",
    "                node = node.next_node\n",
    "\n",
    "                if node == None:\n",
    "                    break\n",
    "            if node:\n",
    "                prev.set_next_node(node.next_node)\n",
    "                node.next_node = None\n",
    "            else:\n",
    "                print(\"Valor no existente\")\n"
   ]
  },
  {
   "cell_type": "code",
   "execution_count": 40,
   "metadata": {},
   "outputs": [],
   "source": [
    "class Singly_linked_list(Singly_linked_list):\n",
    "    def deep_copy(self):\n",
    "        '''Realiza una deep copy de la linked list'''\n",
    "        node = self.head_node\n",
    "        deep_copy_node = Node(self.head_node.val)\n",
    "        new_linked_list = Singly_linked_list(deep_copy_node)\n",
    "\n",
    "        while node.next_node:\n",
    "            node = node.next_node\n",
    "            tail = Node(node.val)\n",
    "            new_linked_list.insert_tail(tail)\n",
    "\n",
    "        return new_linked_list\n"
   ]
  },
  {
   "cell_type": "code",
   "execution_count": 41,
   "metadata": {},
   "outputs": [
    {
     "name": "stdout",
     "output_type": "stream",
     "text": [
      "1\n",
      "2\n",
      "3\n",
      "4\n"
     ]
    }
   ],
   "source": [
    "node1 = Node(1)\n",
    "node2 = Node(2)\n",
    "node3 = Node(3)\n",
    "node4 = Node(4)\n",
    "\n",
    "node1.set_next_node(node2)\n",
    "node2.set_next_node(node3)\n",
    "node3.set_next_node(node4)\n",
    "\n",
    "mLinkedList = Singly_linked_list(node1)\n",
    "mLinkedList.list_traversed()"
   ]
  },
  {
   "cell_type": "code",
   "execution_count": 42,
   "metadata": {},
   "outputs": [
    {
     "name": "stdout",
     "output_type": "stream",
     "text": [
      "1\n",
      "2\n",
      "3\n",
      "4\n"
     ]
    }
   ],
   "source": [
    "m2LinkedList = mLinkedList.deep_copy()\n",
    "m2LinkedList.list_traversed()"
   ]
  },
  {
   "cell_type": "code",
   "execution_count": 43,
   "metadata": {},
   "outputs": [
    {
     "name": "stdout",
     "output_type": "stream",
     "text": [
      "1\n",
      "3\n",
      "4\n"
     ]
    }
   ],
   "source": [
    "mLinkedList.delete_node(2)\n",
    "mLinkedList.list_traversed()"
   ]
  },
  {
   "cell_type": "code",
   "execution_count": 44,
   "metadata": {},
   "outputs": [
    {
     "name": "stdout",
     "output_type": "stream",
     "text": [
      "1\n",
      "2\n",
      "3\n",
      "4\n"
     ]
    }
   ],
   "source": [
    "m2LinkedList.list_traversed()"
   ]
  },
  {
   "cell_type": "code",
   "execution_count": null,
   "metadata": {},
   "outputs": [],
   "source": []
  }
 ],
 "metadata": {
  "kernelspec": {
   "display_name": "Python 3.10.6 64-bit",
   "language": "python",
   "name": "python3"
  },
  "language_info": {
   "codemirror_mode": {
    "name": "ipython",
    "version": 3
   },
   "file_extension": ".py",
   "mimetype": "text/x-python",
   "name": "python",
   "nbconvert_exporter": "python",
   "pygments_lexer": "ipython3",
   "version": "3.10.6"
  },
  "orig_nbformat": 4,
  "vscode": {
   "interpreter": {
    "hash": "edf259275ad4a72d4dd5b452264ad5fb2b635233dff2a31edc6ebc740e55e21b"
   }
  }
 },
 "nbformat": 4,
 "nbformat_minor": 2
}
