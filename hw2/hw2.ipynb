{
 "cells": [
  {
   "cell_type": "markdown",
   "id": "012eda26",
   "metadata": {},
   "source": [
    "# Homework 2"
   ]
  },
  {
   "cell_type": "markdown",
   "id": "6d677bee",
   "metadata": {},
   "source": [
    "### 1. Implement the class `Stacks` and all its methods using singly linked lists. Analyze the runtime and memory complexity, and compare with what we studied in class"
   ]
  },
  {
   "cell_type": "code",
   "execution_count": 1,
   "id": "ec07a0ae",
   "metadata": {},
   "outputs": [],
   "source": [
    "# Codigo copiado de la clase.\n",
    "class Node:\n",
    "    \"\"\"\n",
    "    Implementation of a node\n",
    "    \"\"\"\n",
    "    def __init__(self, val=None):\n",
    "        self.val = val\n",
    "        self.next_node = None\n",
    "    \n",
    "    def set_next_node(self, next_node):\n",
    "        self.next_node = next_node\n",
    "        \n",
    "class Singly_linked_list:\n",
    "    \"\"\"\n",
    "    Implementation of a singly linked list\n",
    "    \"\"\"\n",
    "    def __init__(self, head_node=None):\n",
    "        self.head_node = head_node\n",
    "        \n",
    "    def list_traversed(self):\n",
    "        node = self.head_node\n",
    "        while node:\n",
    "            print(node.val)\n",
    "            node = node.next_node\n",
    "    def insert_head(self, new_node):\n",
    "        # insert to the head\n",
    "        # A -> B -> null\n",
    "        # R -> A -> B -> null \n",
    "        new_node.set_next_node(self.head_node)\n",
    "        self.head_node = new_node\n",
    "    def insert_tail(self, new_node):\n",
    "        # insert to the tail\n",
    "        # A -> B -> null\n",
    "        # A -> B -> R -> null \n",
    "        node = self.head_node\n",
    "        prev = None\n",
    "        while node:\n",
    "            prev = node\n",
    "            node = node.next_node\n",
    "        prev.set_next_node(new_node)\n",
    "    \n",
    "    #Metodo propio\n",
    "    def pop_tail(self):\n",
    "        '''Metodo auxiliar para eliminar la cabeza de la linked list, \n",
    "        devuelve el valor del nodo eliminado.'''\n",
    "        prev_head_node = self.head_node\n",
    "        self.head_node = self.head_node.next_node\n",
    "        prev_head_node.next_node = None\n",
    "        return prev_head_node.val\n",
    "        "
   ]
  },
  {
   "cell_type": "code",
   "execution_count": 2,
   "id": "50cc353a",
   "metadata": {},
   "outputs": [],
   "source": [
    "class myStack(object):\n",
    "    \"\"\"\n",
    "    Implementation of the stack data structure\n",
    "    \"\"\"\n",
    "\n",
    "    def __init__(self, n):\n",
    "        self.l = 0\n",
    "        self.n = n\n",
    "        self.stack = Singly_linked_list()       #Instancio la clase Singly_linked_list para poder acceder a sus metodos y atributos\n",
    "    def push(self, item):\n",
    "        \"\"\"\n",
    "        Add new item to the stack\n",
    "        Complejidad memoria y runtime: O(1)\n",
    "\n",
    "        \"\"\"\n",
    "        if not (self.l == self.n):\n",
    "            new_item = Node(item)\n",
    "            self.stack.insert_head(new_item) #Inserto el nuevo elemento como nodo cabeza de la linked list para poder eliminarlo primero.\n",
    "            self.l += 1\n",
    "        else:\n",
    "            raise ValueError(\"Stack is full\")  \n",
    "    def pop(self):\n",
    "        \"\"\"\n",
    "        Remove an element from the stack\n",
    "        Complejidad memoria y runtime: O(1)\n",
    "        \"\"\"\n",
    "        if not (self.l == 0):\n",
    "            pop_item = self.stack.pop_tail() #Usamos la funcion pop_tail implementado en la clase Singly_linked_list.\n",
    "            self.l -= 1\n",
    "            return pop_item #Retornamos el valor eliminado.\n",
    "        else:\n",
    "            raise ValueError(\"Stack is empty\")\n",
    "    def top(self):\n",
    "        \"\"\"\n",
    "        Show the top element of the stack\n",
    "        Complejidad memoria y runtime: O(1)\n",
    "        \"\"\"\n",
    "        return self.stack.head_node.val #Valor del ultimo elemento agregado al stack.\n",
    "    def full(self):\n",
    "        \"\"\"\n",
    "        Is the stack full?\n",
    "        Complejidad memoria y runtime: O(1)\n",
    "        \"\"\"\n",
    "        return self.l == self.n\n",
    "    def empty(self):\n",
    "        \"\"\"\n",
    "        Is the stack empty?\n",
    "        Complejidad memoria y runtime: O(1)\n",
    "        \"\"\"\n",
    "        return self.l == 0\n",
    "    def size(self):\n",
    "        \"\"\"\n",
    "        Return size of the stack\n",
    "        Complejidad memoria y runtime: O(1)\n",
    "        \"\"\"\n",
    "        return self.l\n",
    "\n"
   ]
  },
  {
   "cell_type": "markdown",
   "id": "0061724a",
   "metadata": {},
   "source": [
    "Comprobaciones de correctitud de implementacion."
   ]
  },
  {
   "cell_type": "code",
   "execution_count": 3,
   "id": "7556b65d",
   "metadata": {},
   "outputs": [
    {
     "name": "stdout",
     "output_type": "stream",
     "text": [
      "Stack:\n",
      "D\n",
      "C\n",
      "B\n",
      "A\n"
     ]
    }
   ],
   "source": [
    "mStack = myStack(5)\n",
    "mStack.push('A')\n",
    "mStack.push('B')\n",
    "mStack.push('C')\n",
    "mStack.push('D')\n",
    "\n",
    "print('Stack:')\n",
    "mStack.stack.list_traversed()\n"
   ]
  },
  {
   "cell_type": "code",
   "execution_count": 4,
   "id": "e388e415",
   "metadata": {},
   "outputs": [
    {
     "name": "stdout",
     "output_type": "stream",
     "text": [
      "Pop item: D\n",
      "Stack:\n",
      "C\n",
      "B\n",
      "A\n"
     ]
    }
   ],
   "source": [
    "print(\"Pop item:\", mStack.pop())\n",
    "print('Stack:')\n",
    "mStack.stack.list_traversed()"
   ]
  },
  {
   "cell_type": "code",
   "execution_count": 5,
   "id": "536d3474",
   "metadata": {},
   "outputs": [
    {
     "name": "stdout",
     "output_type": "stream",
     "text": [
      "True\n",
      "True\n",
      "False\n",
      "False\n"
     ]
    }
   ],
   "source": [
    "mStack.push('D')\n",
    "mStack.push('E')\n",
    "\n",
    "m2Stack = myStack(5)\n",
    "\n",
    "print(mStack.full())\n",
    "print(m2Stack.empty())\n",
    "\n",
    "m2Stack.push('A')\n",
    "mStack.pop()\n",
    "\n",
    "print(mStack.full())\n",
    "print(m2Stack.empty())"
   ]
  },
  {
   "cell_type": "code",
   "execution_count": 6,
   "id": "ac6d4384",
   "metadata": {},
   "outputs": [
    {
     "name": "stdout",
     "output_type": "stream",
     "text": [
      "D\n",
      "4\n"
     ]
    }
   ],
   "source": [
    "\n",
    "print(mStack.top())\n",
    "print(mStack.size())"
   ]
  },
  {
   "cell_type": "markdown",
   "id": "dadfc96f",
   "metadata": {},
   "source": [
    "\n",
    "Todas las funciones implementadas en la clase 'Stack' a partir de 'Simply_Linked_List' tienen una complejidad $O(1)$ en runtime y memoria (constante) al igual que las vistas en clase; asi, no hay una mejor que otra, seria cuestion del programador elegir cual se adapta mejor a sus gustos y conocimientos.\n",
    "\n",
    "Colaboracion con: Josué Endara"
   ]
  },
  {
   "cell_type": "markdown",
   "id": "bc2655ce",
   "metadata": {},
   "source": [
    "### 2. Write a method part of the linked list class that will reverse the linked list. Your implementation should visit each node in the list only one time, and should use $O(1)$ of extra memory.\n",
    "\n",
    "\n",
    "> For example, if the list is:\n",
    "\n",
    "> A -> B -> C -> D -> null\n",
    "\n",
    "> The method must return:\n",
    "\n",
    "> D -> C -> B -> A -> null\n",
    "\n"
   ]
  },
  {
   "cell_type": "code",
   "execution_count": 7,
   "id": "520e277c",
   "metadata": {},
   "outputs": [],
   "source": [
    "class Singly_linked_list(Singly_linked_list):\n",
    "    def reverse_linked_list(self):\n",
    "        '''Revierte la linked list'''\n",
    "        prev_node = None \n",
    "        curr_node = self.head_node # El primer nodo que se visita es la cabeza de la linked list\n",
    "        # Se recorre una sola vez por cada nodo hasta llegar al ultimo (que apunta al valor Nulo)\n",
    "        while curr_node != None:\n",
    "            next_node = curr_node.next_node # next_node apunta al siguiente nodo del actual.\n",
    "            curr_node.next_node = prev_node # el nodo siguiente al actual ahora es el previo. En la primera iteracion apuntara a nulo.\n",
    "                                            #Esta linea, en general, es la encargada de dar la vuelta a la linked list\n",
    "            \n",
    "            #Seteamos los valores para la siguiente iteracion\n",
    "            prev_node = curr_node # El nodo previo se convierte en el actual\n",
    "            curr_node = next_node # El nodo actual ahora es el siguiente y se repite el bucle hasta que next_node sea nulo y curr_node tome dicho valor.\n",
    "            \n",
    "        self.head_node = prev_node #Finalmente la cabeza de la linked list es definida como el ultimo nodo visitado en el bucle while."
   ]
  },
  {
   "cell_type": "code",
   "execution_count": 8,
   "id": "7e9d89e1",
   "metadata": {},
   "outputs": [
    {
     "name": "stdout",
     "output_type": "stream",
     "text": [
      "1\n",
      "2\n",
      "3\n",
      "4\n",
      "\n",
      "4\n",
      "3\n",
      "2\n",
      "1\n"
     ]
    }
   ],
   "source": [
    "node1 = Node(1)\n",
    "node2 = Node(2)\n",
    "node3 = Node(3)\n",
    "node4 = Node(4)\n",
    "\n",
    "node1.set_next_node(node2)\n",
    "node2.set_next_node(node3)\n",
    "node3.set_next_node(node4)\n",
    "\n",
    "ll1 = Singly_linked_list(node1)\n",
    "ll1.list_traversed()\n",
    "ll1.reverse_linked_list()\n",
    "print()\n",
    "ll1.list_traversed()"
   ]
  },
  {
   "cell_type": "markdown",
   "id": "c9ebe95e",
   "metadata": {},
   "source": [
    "### 3. Implement the class Queue using stacks. \n",
    "\n",
    "> a. Analyze the runtime and memory complexity, and compare with what we implemented in class.\n",
    "\n",
    "> b. Implement a few test cases that would allow you to measure the difference in runtime of the `dequeue` method. (Hint: what is the worst case, so that dequeue of the stack implementation is greater than the implementation we did in class?)\n"
   ]
  },
  {
   "cell_type": "code",
   "execution_count": 9,
   "id": "6144ae5a",
   "metadata": {},
   "outputs": [],
   "source": [
    "from time import time\n",
    "from time import time_ns\n",
    "from time import sleep\n",
    "\n",
    "#Python decorator\n",
    "def dec_timer(passed_func):\n",
    "    def wrap(*args, **kwargs): #Inner function\n",
    "        t_init = time()*10**6 #Toma del tiempo inicial\n",
    "        result = passed_func(*args, **kwargs) #Se ejecuta la fucion a evaluar su tiempo de ejecucion\n",
    "        t_final = time()*10**6 #Toma el tiempo final\n",
    "        t_total = t_final-t_init\n",
    "        return (result, t_total) #Retorna el valor de la funcion de interes\n",
    "    return wrap #Completa el decorador"
   ]
  },
  {
   "cell_type": "code",
   "execution_count": 10,
   "id": "c6fdee72",
   "metadata": {},
   "outputs": [],
   "source": [
    "# Reutilizamos el codigo visto en clase\n",
    "import ctypes\n",
    "class Stack(object):\n",
    "    \"\"\"\n",
    "    Implementation of the stack data structure\n",
    "    \"\"\"\n",
    "\n",
    "    def __init__(self, n):\n",
    "        self.l = 0\n",
    "        self.n = n\n",
    "        self.stack = self._create_stack(self.n)        \n",
    "    \n",
    "    def _create_stack(self, n):\n",
    "        \"\"\"\n",
    "        Creates a new stack of capacity n\n",
    "        \"\"\"\n",
    "        return (n * ctypes.py_object)()\n",
    "    def push(self, item):\n",
    "        \"\"\"\n",
    "        Add new item to the stack\n",
    "        \"\"\"\n",
    "        if self.l == self.n:\n",
    "            raise ValueError(\"no more capacity\")\n",
    "        self.stack[self.l] = item\n",
    "        self.l += 1\n",
    "    def pop(self):\n",
    "        \"\"\"\n",
    "        Remove an element from the stack\n",
    "        \"\"\"\n",
    "        # self.l = 0\n",
    "        # 0 is equivalent to False\n",
    "        # any number != 0 is True\n",
    "        if not self.l:\n",
    "            raise('stack is empty')\n",
    "        c = self.stack[self.l-1]\n",
    "        self.stack[self.l] = ctypes.py_object\n",
    "        self.l -= 1\n",
    "        return c\n",
    "    def top(self):\n",
    "        \"\"\"\n",
    "        Show the top element of the stack\n",
    "        \"\"\"\n",
    "        return self.stack[self.l-1]\n",
    "    def full(self):\n",
    "        \"\"\"\n",
    "        Is the stack full?\n",
    "        \"\"\"\n",
    "        return self.l == self.n\n",
    "\n",
    "    def empty(self):\n",
    "        \"\"\"\n",
    "        Is the stack empty?\n",
    "        \"\"\"\n",
    "        return self.l == 0\n",
    "\n",
    "    def size(self):\n",
    "        \"\"\"\n",
    "        Return size of the stack\n",
    "        \"\"\"\n",
    "        return self.l"
   ]
  },
  {
   "cell_type": "code",
   "execution_count": 11,
   "id": "0ea265a2",
   "metadata": {},
   "outputs": [],
   "source": [
    "#La implementacion de la Clase Queue se basa en la segunda forma explicada en clase sobre como implementar queues a partir de stacks 'Queues.pdf'\n",
    "class Queue(object):\n",
    "    \"\"\"\n",
    "    Implementation of the queue data structure\n",
    "    \"\"\"\n",
    "\n",
    "    def __init__(self, n):\n",
    "        self.l = 0\n",
    "        self.n = n\n",
    "        self.enQueue_s = Stack(n)\n",
    "        self.deQueue_s = Stack(n)    #Se inicializan dos objetos Stack. Esto nos ayudara en la complejidad de los metodos enqueue y dequeue\n",
    "    def enqueue(self, item):\n",
    "        \"\"\"\n",
    "        Add new item to the queue\n",
    "        Complexity: O(1)\n",
    "        \"\"\"\n",
    "        if self.l == self.n:\n",
    "            raise ValueError(\"Queue is full\")\n",
    "        self.enQueue_s.push(item) #Se agrega un elemento al stack de enqueue\n",
    "        if self.deQueue_s.empty(): #Si el stack dequeue esta vacio, se hace un push del elemento que estaba en el stack enqueue y a este se lo elimina con pop.\n",
    "            from_enq_item = self.enQueue_s.pop()\n",
    "            self.deQueue_s.push(from_enq_item)\n",
    "        self.l += 1 \n",
    "    @dec_timer #Uso del decorador\n",
    "    def dequeue(self):\n",
    "        \"\"\"\n",
    "        Remove an element from the queue\n",
    "        Complexity: Amortized O(1)\n",
    "        El peor de los casos se da cuando el stack dequeue está vacío y se tiene que rellenarlo con los elementos almacenados en el stack enqueue. Complejidad O(n)\n",
    "        El mejor de los casos se da cuando el stack dequeue tiene los elementos ya invertidos y solo se realiza un pop. Complejidad O(1).\n",
    "        \"\"\"\n",
    "        try:\n",
    "            pop_item = self.deQueue_s.pop() #Almacenamos el elemento popeado del stack dequeue\n",
    "            if self.deQueue_s.empty(): #Si al hacer el pop nuestro stack dequeue se queda vacio, lo llenamos con los elementos almancenados en el stack enqueue de forma invertida\n",
    "                for i in range(self.enQueue_s.size()):\n",
    "                    from_enq_item = self.enQueue_s.pop() #Hacemos pop de los elementos del stack enqueue\n",
    "                    self.deQueue_s.push(from_enq_item) #Guardamos los elementos popeados anteriormente en el stack dequeue, esto hara que esten de forma invertida.\n",
    "            self.l -= 1\n",
    "            return pop_item\n",
    "        except: #Si ya no hay mas elementos para popear, lanza un error advirtiendo que la queue esta vacia.\n",
    "            raise ValueError('Queue is empty')\n",
    "    def full(self):\n",
    "        \"\"\"\n",
    "        Is the queue full?\n",
    "        \"\"\"\n",
    "        return self.l == self.n\n",
    "\n",
    "    def empty(self):\n",
    "        \"\"\"\n",
    "        Is the queue empty?\n",
    "        \"\"\"\n",
    "        return self.l == 0\n",
    "\n",
    "    def size(self):\n",
    "        \"\"\"\n",
    "        Return size of the queue\n",
    "        \"\"\"\n",
    "        return self.l"
   ]
  },
  {
   "cell_type": "markdown",
   "id": "4c027959",
   "metadata": {},
   "source": [
    "Comprobación de correctitud de la implementación"
   ]
  },
  {
   "cell_type": "code",
   "execution_count": 12,
   "id": "a71577ce",
   "metadata": {},
   "outputs": [],
   "source": [
    "mQueue = Queue(4) #Creacion de Queue y enqueue de elementos\n",
    "mQueue.enqueue(1)\n",
    "mQueue.enqueue(2)\n",
    "mQueue.enqueue(3)\n",
    "mQueue.enqueue(4)\n"
   ]
  },
  {
   "cell_type": "code",
   "execution_count": 13,
   "id": "ff2a40fa",
   "metadata": {},
   "outputs": [
    {
     "name": "stdout",
     "output_type": "stream",
     "text": [
      "1\n"
     ]
    }
   ],
   "source": [
    "print(mQueue.dequeue()[0]) #dequeue de elementos"
   ]
  },
  {
   "cell_type": "code",
   "execution_count": 14,
   "id": "df66159c",
   "metadata": {},
   "outputs": [
    {
     "name": "stdout",
     "output_type": "stream",
     "text": [
      "2\n"
     ]
    }
   ],
   "source": [
    "print(mQueue.dequeue()[0])"
   ]
  },
  {
   "cell_type": "code",
   "execution_count": 15,
   "id": "09d9f9f3",
   "metadata": {},
   "outputs": [
    {
     "name": "stdout",
     "output_type": "stream",
     "text": [
      "3\n"
     ]
    }
   ],
   "source": [
    "mQueue.enqueue(5) # enqueue de nuevos elementos\n",
    "mQueue.enqueue(6)\n",
    "print(mQueue.dequeue()[0])"
   ]
  },
  {
   "cell_type": "code",
   "execution_count": 16,
   "id": "799a58b8",
   "metadata": {},
   "outputs": [
    {
     "name": "stdout",
     "output_type": "stream",
     "text": [
      "4\n",
      "5\n"
     ]
    }
   ],
   "source": [
    "print(mQueue.dequeue()[0]) # Se mantiene el orden de salida al momento de hacer enqueue\n",
    "print(mQueue.dequeue()[0])"
   ]
  },
  {
   "cell_type": "markdown",
   "id": "b0d7c34b",
   "metadata": {},
   "source": [
    "a. En los metodos que se implementaron en clases el metodo \"enqueue\" tenia un runtime complexity $O(1)$ al igual que el implementado con Stacks, entonces realmente no existe una diferencia significativa entre ambos. Por otro lado, el metodo \"dequeue\" implementado en clases tenia runtime complexity $O(n)$, en cambio, el que implementé con Stacks tiene runtime complexity $Amortized-O(1)$: supongamos que realizamos un enqueue de 10 items, el primer dequeue tendra complejidad $O(n)$ porque todos los elementos que estaban en la enqueue stack seran movidos al dequeue stack; a partir del segundo dequeue que se haga, la complejidad será $O(1)$ ya que solo se llamara al metodo pop para eliminar los elementos del dequeue stack, funcion que es de complejidad constante.\\\n",
    "En cuanto a memoria, la complejidad es $O(1)$ ya que solo se esta \"visitando\" cada item una sola vez y es seguro que no existen memory leaks."
   ]
  },
  {
   "cell_type": "markdown",
   "id": "ad93019b",
   "metadata": {},
   "source": [
    "b. Implement a few test cases that would allow you to measure the difference in runtime of the `dequeue` method. (Hint: what is the worst case, so that dequeue of the stack implementation is greater than the implementation we did in class?)"
   ]
  },
  {
   "cell_type": "code",
   "execution_count": 29,
   "id": "c6bf0a9e",
   "metadata": {},
   "outputs": [],
   "source": [
    "#Reusando el codigo de implementación de queues visto en clase.\n",
    "import ctypes\n",
    "class CQueue(object):\n",
    "    \"\"\"\n",
    "    Implementation of the queue data structure\n",
    "    \"\"\"\n",
    "\n",
    "    def __init__(self, n):\n",
    "        self.l = 0\n",
    "        self.n = n\n",
    "        self.queue = self._create_queue(self.n)        \n",
    "    \n",
    "    def _create_queue(self, n):\n",
    "        \"\"\"\n",
    "        Creates a new stack of capacity n\n",
    "        \"\"\"\n",
    "        return (n * ctypes.py_object)()\n",
    "    def enqueue(self, item):\n",
    "        \"\"\"\n",
    "        Add new item to the queue\n",
    "        \"\"\"\n",
    "        if self.l == self.n:\n",
    "            raise ValueError(\"no more capacity\")\n",
    "        self.queue[self.l] = item\n",
    "        self.l += 1\n",
    "    @dec_timer #Uso del decorador\n",
    "    def dequeue(self):\n",
    "        \"\"\"\n",
    "        Remove an element from the queue\n",
    "        \"\"\"\n",
    "        c = self.queue[0]\n",
    "        for i in range(1,self.l):\n",
    "            self.queue[i-1] = self.queue[i]\n",
    "        self.queue[self.l - 1] = ctypes.py_object\n",
    "        self.l -= 1\n",
    "        return c"
   ]
  },
  {
   "cell_type": "markdown",
   "id": "b7660767",
   "metadata": {},
   "source": [
    "Primero, haremos una graficacion de los tiempos de ejecucion en el peor de los casos para el metodo \"dequeue\" que se ha implmentado en la clase \"Queue\" haciendo uso de Stacks. El peor de los casos se da cuando, una vez realizado el \"enqueue\" de todos los elementos, se hace el primer dequeue, ya que, se pasan todos los elementos del stack enqueue al stack dequeue, resultando en una complejidad $O(n)$. "
   ]
  },
  {
   "cell_type": "code",
   "execution_count": 60,
   "id": "c2ffba0c",
   "metadata": {},
   "outputs": [],
   "source": [
    "stack_queues_times = []\n",
    "class_queues_times = []\n",
    "\n",
    "n = [10**2, 10**3, 10**4, 10**5, 10**6]\n",
    "\n",
    "for i in range(len(n)):\n",
    "    sQueue = Queue(n[i])\n",
    "    clQueue = CQueue(n[i])\n",
    "\n",
    "    for j in range(n[i]):\n",
    "        sQueue.enqueue(j)\n",
    "        clQueue.enqueue(j)\n",
    "\n",
    "    stack_queues_times.append(sQueue.dequeue()[1]) #Primer dequeue, se toman los tiempos.\n",
    "    class_queues_times.append(clQueue.dequeue()[1]) #Primer dequeue, se toman los tiempos.\n"
   ]
  },
  {
   "cell_type": "code",
   "execution_count": 61,
   "id": "48d7cddb",
   "metadata": {},
   "outputs": [
    {
     "data": {
      "image/png": "[encoded data removed]",
      "text/plain": [
       "<Figure size 640x480 with 1 Axes>"
      ]
     },
     "metadata": {},
     "output_type": "display_data"
    }
   ],
   "source": [
    "import matplotlib.pyplot as plt\n",
    "import pandas as pd\n",
    "\n",
    "df_queues_times = pd.DataFrame() #Inicializo el frame para los datos\n",
    "df_queues_times[\"n\"] = n\n",
    "\n",
    "#Creacion de la tabla de datos con los valores almacenados de tiempos de ejecucion\n",
    "df_queues_times[\"Stack queues\"] = stack_queues_times\n",
    "df_queues_times[\"Class queues\"] = class_queues_times\n",
    "\n",
    "# Graficacion de los tiempos de ejecucion\n",
    "df_queues_times.plot(x='n')\n",
    "plt.xlabel('n')\n",
    "plt.grid()"
   ]
  },
  {
   "cell_type": "markdown",
   "id": "999a7604",
   "metadata": {},
   "source": [
    "Como se observa, el primer dequeue hasta llega a ser mas costoso que el implementado en clases, pero la complejidad sigue siendo la determinada anteriormente.\\\n",
    "Ahora, probemos el mejor de los casos para el metodo \"dequeue\" implementado con stacks, es decir, una vez se realiza el primer dequeue, volvemos a llamar al metodo. De acuerdo a lo anteriormente programado y explicado, la complejidad deberia ser $O(1)$."
   ]
  },
  {
   "cell_type": "code",
   "execution_count": 63,
   "id": "15a225c9",
   "metadata": {},
   "outputs": [],
   "source": [
    "stack_queues_times = []\n",
    "class_queues_times = []\n",
    "\n",
    "n = [10**2, 10**3, 10**4, 10**5, 10**6]\n",
    "\n",
    "for i in range(len(n)):\n",
    "    sQueue = Queue(n[i])\n",
    "    clQueue = CQueue(n[i])\n",
    "\n",
    "    for j in range(n[i]):\n",
    "        sQueue.enqueue(j)\n",
    "        clQueue.enqueue(j)\n",
    "\n",
    "    sQueue.dequeue() #Se realiza el primer dequeue a fin de obtener el caso favorable en la siguiente linea.\n",
    "    stack_queues_times.append(sQueue.dequeue()[1]) # Se hace un segundo dequeue y se toma el tiempo.\n",
    "    class_queues_times.append(clQueue.dequeue()[1])"
   ]
  },
  {
   "cell_type": "code",
   "execution_count": 64,
   "id": "e670e360",
   "metadata": {},
   "outputs": [
    {
     "data": {
      "image/png": "[encoded data removed]",
      "text/plain": [
       "<Figure size 640x480 with 1 Axes>"
      ]
     },
     "metadata": {},
     "output_type": "display_data"
    }
   ],
   "source": [
    "import matplotlib.pyplot as plt\n",
    "import pandas as pd\n",
    "\n",
    "df_queues_times = pd.DataFrame() #Inicializo el frame para los datos\n",
    "df_queues_times[\"n\"] = n\n",
    "\n",
    "#Creacion de la tabla de datos con los valores almacenados de tiempos de ejecucion\n",
    "df_queues_times[\"Stack queues\"] = stack_queues_times\n",
    "df_queues_times[\"Class queues\"] = class_queues_times\n",
    "\n",
    "# Graficacion de los tiempos de ejecucion\n",
    "df_queues_times.plot(x='n')\n",
    "plt.xlabel('n')\n",
    "plt.grid()"
   ]
  },
  {
   "cell_type": "markdown",
   "id": "b4d060a3",
   "metadata": {},
   "source": [
    "Como se observa, efectivamente, a partir del segundo llamado a dequeue, la complejidad se vuelve constante $O(1)$ y es mucho mejor que el implementado en clases.\\\n",
    "Colaboracion con Josue Endara"
   ]
  },
  {
   "cell_type": "markdown",
   "id": "af4d174f",
   "metadata": {},
   "source": [
    "### 4. Complete the PriorityQueue class, so that when we call `dequeue`, the element with the highest priority will be returned. Analyze the complexity of runtime and memory of the `enqueue` and `dequeue` methods."
   ]
  },
  {
   "cell_type": "markdown",
   "id": "c200e2fd",
   "metadata": {},
   "source": [
    "A = [4, 2, 7, 5, 9]  # O(n^2)\n",
    "\n",
    "B = [1, 3, 4, 5]\n",
    "insert 2 in B, such that B is still sorted \n",
    "Not O(n^2)"
   ]
  },
  {
   "cell_type": "code",
   "execution_count": 20,
   "id": "ba62eca6",
   "metadata": {},
   "outputs": [],
   "source": [
    "#Tomando el codigo realizado en clase.\n",
    "import ctypes\n",
    "class PriorityQueue(object):\n",
    "    \"\"\"\n",
    "    Implementation of the queue data structure\n",
    "    element of queue (k, n) k-priority, n-value. k lowest -> highest priority\n",
    "    \"\"\"\n",
    "\n",
    "    def __init__(self, n):\n",
    "        self.l = 0\n",
    "        self.n = n\n",
    "        self.queue = self._create_queue(self.n)        \n",
    "    \n",
    "    def _create_queue(self, n):\n",
    "        \"\"\"\n",
    "        Creates a new stack of capacity n\n",
    "        \"\"\"\n",
    "        return (n * ctypes.py_object)()\n",
    "    \n",
    "    def enqueue(self, item):\n",
    "        \"\"\"\n",
    "        Add new item to the queue\n",
    "        \"\"\"\n",
    "        if self.l == self.n:\n",
    "            raise ValueError(\"no more capacity\")\n",
    "        self.queue[self.l] = item # Agrego el nuevo item al ultimo de la priority queue\n",
    "\n",
    "        self.l += 1\n",
    "\n",
    "        # Una vez insertado el item se orgniza la priority queue\n",
    "        #Aplicacion y modificacion del metodo de insertion sort para organizacion de tuplas.\n",
    "        for i in range(1, self.l):\n",
    "            qTuple = self.queue[i]\n",
    "            j = i - 1\n",
    "            while j >= 0 and self.queue[j][0] > qTuple[0]:\n",
    "                self.queue[j+1] = self.queue[j]\n",
    "                j -= 1\n",
    "            self.queue[j+1] = qTuple\n",
    "            \n",
    "    def dequeue(self):\n",
    "        \"\"\"\n",
    "        Delete the item with the highest priority (lowest k value) of the queue\n",
    "        \"\"\"\n",
    "        pop_item = self.queue[0]\n",
    "        self.queue = self.queue[1:] #List slicing. Redefino la queue a partir del item con indice 1. \n",
    "        return pop_item"
   ]
  },
  {
   "cell_type": "code",
   "execution_count": 21,
   "id": "da2cc1c0",
   "metadata": {},
   "outputs": [],
   "source": [
    "pQueue = PriorityQueue(5)\n",
    "pQueue.enqueue((4,5))\n",
    "pQueue.enqueue((2,4))\n",
    "pQueue.enqueue((1,3))\n",
    "pQueue.enqueue((1,34))\n",
    "pQueue.enqueue((45, 1))"
   ]
  },
  {
   "cell_type": "code",
   "execution_count": 22,
   "id": "0734be99",
   "metadata": {},
   "outputs": [
    {
     "data": {
      "text/plain": [
       "[(1, 3), (1, 34), (2, 4), (4, 5), (45, 1)]"
      ]
     },
     "execution_count": 22,
     "metadata": {},
     "output_type": "execute_result"
    }
   ],
   "source": [
    "pQueue.queue[:pQueue.l]"
   ]
  },
  {
   "cell_type": "code",
   "execution_count": 23,
   "id": "1d210ee0",
   "metadata": {},
   "outputs": [
    {
     "data": {
      "text/plain": [
       "(1, 3)"
      ]
     },
     "execution_count": 23,
     "metadata": {},
     "output_type": "execute_result"
    }
   ],
   "source": [
    "pQueue.dequeue()"
   ]
  },
  {
   "cell_type": "code",
   "execution_count": 24,
   "id": "d349a49a",
   "metadata": {},
   "outputs": [
    {
     "data": {
      "text/plain": [
       "(1, 34)"
      ]
     },
     "execution_count": 24,
     "metadata": {},
     "output_type": "execute_result"
    }
   ],
   "source": [
    "pQueue.dequeue()"
   ]
  },
  {
   "cell_type": "code",
   "execution_count": 25,
   "id": "d8d55f81",
   "metadata": {},
   "outputs": [
    {
     "data": {
      "text/plain": [
       "[(2, 4), (4, 5), (45, 1)]"
      ]
     },
     "execution_count": 25,
     "metadata": {},
     "output_type": "execute_result"
    }
   ],
   "source": [
    "pQueue.queue[:pQueue.l]"
   ]
  },
  {
   "cell_type": "markdown",
   "id": "e8fef121",
   "metadata": {},
   "source": [
    "Dado que el metodo enqueue utiliza insertion sort para organizar las tuplas de acuerdo a la prioridad de los elementos ingresados, su complejidad de tiempo de ejecución es $O(n^2)$, la complejidad en memoria es $O(1)$ ya que, en el peor de los casos, se 'visita' los elementos una vez.\\\n",
    "A primera vista el metodo dequeue parece que tiene una complejidad $O(1)$ en tiempo de ejecucion, sin embargo, se esta utilizando Python List Slicing para redefinir la priority queue a partir del item de indice 1 ya que se supone que se ha eliminado el primer item (mayor prioridad). Por esto, la complejidad del metodo dequeue seria $O(n-1)$ que seria equivalente a: $O(m)$ tal que $m<n$."
   ]
  },
  {
   "cell_type": "markdown",
   "id": "aff830fc",
   "metadata": {},
   "source": [
    "### 5. A given linked-list (singly or doubly) represents an integer number. For example, 345 is represented by the singly-linked list 3 -> 4 ->5. Write a Python program that does the following:\n",
    "\n",
    "1. Receives three integers A, B and C as inputs. Assume that the three number have the same number of digits.\n",
    "\n",
    "2. Transform the numbers to their corresponding linked lists\n",
    "\n",
    "3. Implement the sum of the three numbers. The result A + B + C must be stored in a linked list. \n",
    "\n",
    "4. Print the result by traversing the list. \n",
    "\n",
    "5. Run your program for numbers with 1 to 100 digits, and capture the runtime. Use these number to estimate the complexity of the runtime.\n",
    "    - Hint: write a small function that uses `randint()` to generate a number of a given number of digits \n",
    "6. Analitically estimate the runtime complexity and compare with the one obtained in (5)."
   ]
  },
  {
   "cell_type": "markdown",
   "id": "3ceba579",
   "metadata": {},
   "source": [
    "3->4->5\\\n",
    "1->2->3\\\n",
    "5->6->7\n",
    "\n",
    "1->0->3->5"
   ]
  },
  {
   "cell_type": "code",
   "execution_count": 94,
   "id": "3058919a",
   "metadata": {},
   "outputs": [],
   "source": [
    "@dec_timer # Uso del decorador\n",
    "def sum_ints_as_linked_lists(A, B, C):\n",
    "    '''\n",
    "    Convierte 3 integers en linked lists\n",
    "    '''\n",
    "    #Se separa cada digito del integer y se lo almacena como un elemento de un array\n",
    "    Adgts = [int(d) for d in str(A)]\n",
    "    Bdgts = [int(d) for d in str(B)]\n",
    "    Cdgts = [int(d) for d in str(C)]\n",
    "\n",
    "    # Se comprueba si todos los numeros tienen la misma cantidad de digitos\n",
    "    if not(len(Adgts) == len(Bdgts) and len(Adgts) == len(Cdgts)):\n",
    "        raise ValueError('Numbers with different number of digts.')\n",
    "\n",
    "    # Setea el primer nodo como el primer elemento de los array, equivalente al primer digito del integer.\n",
    "    Anode = Node(Adgts[0])\n",
    "    Bnode = Node(Bdgts[0])\n",
    "    Cnode = Node(Cdgts[0])\n",
    "\n",
    "    # Se crean las linked list tomando como cabeza de la lista el primer nodo anteriormente definido.\n",
    "    lA = Singly_linked_list(Anode)\n",
    "    lB = Singly_linked_list(Bnode)\n",
    "    lC = Singly_linked_list(Cnode)\n",
    "\n",
    "    # Se agregan los demas digitos a manera de nodos. \n",
    "    for i in range(1, len(Adgts)):\n",
    "        lA.insert_tail(Node(Adgts[i]))\n",
    "        lB.insert_tail(Node(Bdgts[i]))\n",
    "        lC.insert_tail(Node(Cdgts[i]))\n",
    "    \n",
    "    # Para facilidad de calculo (sumar numeros de n digitos de forma tradicional) se invierten las linked lists.\n",
    "    lA.reverse_linked_list()\n",
    "    lB.reverse_linked_list()\n",
    "    lC.reverse_linked_list()\n",
    "\n",
    "    # Inicializacion de variables para las cuentas\n",
    "    sum = 0 # Suma de digitos\n",
    "    rem = 0 # Representa lo que 'llevo', es decir, si sumo 9+4 el resultado es 13, mantengo el 3 y 'llevo' 1. \n",
    "    result_head_node = None # Cabeza de nodo del numero resultante.\n",
    "    p_node = None # Nodo auxiliar.\n",
    "\n",
    "    for i in range(len(Adgts)): # Como es conocido que la cantidad de digitos de todos los numeros es la misma, se puede escribir esta linea.\n",
    "\n",
    "        sum = rem + lA.head_node.val + lB.head_node.val + lC.head_node.val # Sumamos los valores de los nodo cabeza y lo que 'llevo'.\n",
    "        \n",
    "        # Al sumar 3 digitos, el valor maximo que se puede obtener es 27 (9+9+9), entonces definimos los casos de numeros que puedo 'llevar'.\n",
    "        if sum >= 10 and sum < 20:\n",
    "            rem = 1\n",
    "        elif sum >= 20:\n",
    "            rem = 2\n",
    "        else: \n",
    "            rem = 0\n",
    "        \n",
    "        # Por la explicacion anterior, unicamente tomamos el ultimo digito de la suma\n",
    "        # En caso de tener un solo digito, se mantiene\n",
    "        sum %= 10\n",
    "\n",
    "        # El valor de sum se lo almacena como un nuevo nodo, para ir formando la linked list\n",
    "        new_node = Node(sum)\n",
    "        \n",
    "        if not result_head_node: # Caso inicial, setea la cabeza de nodo como el primer valor de sum.\n",
    "            result_head_node = new_node\n",
    "        else: # En las demas iteraciones, seteamos los nodos siguientes con los nuevos valores de sum. Como esta linea no se ejecuta nunca\n",
    "              # en la primera iteracion, no existe problema que hayamos definido inicialmente p_node = None.\n",
    "            p_node.next_node = new_node\n",
    "        \n",
    "        # p_node se actualiza al nuevo nodo actual (valor de sum en la i-th iteracion)\n",
    "        p_node = new_node\n",
    "\n",
    "        # Se actualizan las cabezas de los nodos para la siguiente iteracion.\n",
    "        lA.head_node = lA.head_node.next_node\n",
    "    \n",
    "        lB.head_node = lB.head_node.next_node\n",
    "    \n",
    "        lC.head_node = lC.head_node.next_node\n",
    "\n",
    "    # Si en la ultima iteracion el valor de sum fue > 9, se tendra algo que 'llevar', este valor se agrega como el ultimo nodo de la suma\n",
    "    if rem > 0:\n",
    "        new_node.next_node = Node(rem)\n",
    "\n",
    "    resultant_linked_list = Singly_linked_list(result_head_node)\n",
    "    # Recordar que para facilidad de calculo se invirtieron las linked list, entonces la resultante tambien estara invertida\n",
    "    # Debemos darle la vuelta nuevamente para obtener el resultado final y correcto.\n",
    "    resultant_linked_list.reverse_linked_list()\n",
    "    return resultant_linked_list"
   ]
  },
  {
   "cell_type": "code",
   "execution_count": 95,
   "id": "4dd5ed5f",
   "metadata": {},
   "outputs": [
    {
     "name": "stdout",
     "output_type": "stream",
     "text": [
      "1\n",
      "6\n",
      "4\n",
      "1\n",
      "3\n",
      "5\n",
      "2\n",
      "5\n",
      "6\n"
     ]
    }
   ],
   "source": [
    "final_linked_list = sum_ints_as_linked_lists(12345678, 65438764, 86350814)[0]\n",
    "final_linked_list.list_traversed()"
   ]
  },
  {
   "cell_type": "code",
   "execution_count": 104,
   "id": "ba631eb5",
   "metadata": {},
   "outputs": [],
   "source": [
    "import random\n",
    "def rand_n_digit_number(n):\n",
    "    '''\n",
    "    Generates a random number of a specified quantity of digits.\n",
    "    '''\n",
    "    return random.randint(10**(n-1), 10**n)\n",
    "\n",
    "sum_linked_lists_times = []\n",
    "test_range = range(1, 101) # Cantidad de digitos solicitada por el enunciado\n",
    "for i in test_range:\n",
    "    sum_linked_lists_times.append(sum_ints_as_linked_lists(rand_n_digit_number(i), rand_n_digit_number(i), rand_n_digit_number(i))[1])\n",
    "\n"
   ]
  },
  {
   "cell_type": "code",
   "execution_count": 108,
   "id": "22409ff7",
   "metadata": {},
   "outputs": [
    {
     "data": {
      "image/png": "[encoded data removed]",
      "text/plain": [
       "<Figure size 640x480 with 1 Axes>"
      ]
     },
     "metadata": {},
     "output_type": "display_data"
    }
   ],
   "source": [
    "df_sum_ll_times = pd.DataFrame() #Inicializo el frame para los datos\n",
    "df_sum_ll_times[\"n\"] = test_range\n",
    "\n",
    "#Creacion de la tabla de datos con los valores almacenados de tiempos de ejecucion\n",
    "df_sum_ll_times[\"Sum Linked Lists\"] = sum_linked_lists_times\n",
    "\n",
    "# Graficacion de los tiempos de ejecucion\n",
    "df_sum_ll_times.plot(x='n', logy=True)\n",
    "plt.xlabel('n')\n",
    "plt.grid()"
   ]
  },
  {
   "cell_type": "markdown",
   "id": "186cfa8c",
   "metadata": {},
   "source": [
    "Realmente este grafico donde se visualizan los tiempo de ejecucion para numeros de entre 1 y 100 digitos no es muy claro; si somos muy observadores, se podria decir que tiene una tendencia a crecer conforme el n (cantidad de digitos) crece pero no es certero si es crecimiento lineal o cuadratico.\\\n",
    "A fin de intentar mejorar esto, aumentaremos la cantidad de digitos. "
   ]
  },
  {
   "cell_type": "code",
   "execution_count": 111,
   "id": "e18487e6",
   "metadata": {},
   "outputs": [
    {
     "data": {
      "image/png": "[encoded data removed]",
      "text/plain": [
       "<Figure size 640x480 with 1 Axes>"
      ]
     },
     "metadata": {},
     "output_type": "display_data"
    }
   ],
   "source": [
    "sum_linked_lists_times = []\n",
    "test_range = range(300, 701) #Incrementamos considerablemente la cantidad de digitos\n",
    "for i in test_range:\n",
    "    sum_linked_lists_times.append(sum_ints_as_linked_lists(rand_n_digit_number(i), rand_n_digit_number(i), rand_n_digit_number(i))[1])\n",
    "\n",
    "df_sum_ll_times = pd.DataFrame() #Inicializo el frame para los datos\n",
    "df_sum_ll_times[\"n\"] = test_range\n",
    "\n",
    "#Creacion de la tabla de datos con los valores almacenados de tiempos de ejecucion\n",
    "df_sum_ll_times[\"Sum Linked Lists\"] = sum_linked_lists_times\n",
    "\n",
    "# Graficacion de los tiempos de ejecucion\n",
    "df_sum_ll_times.plot(x='n')\n",
    "plt.xlabel('n')\n",
    "plt.grid()"
   ]
  },
  {
   "cell_type": "markdown",
   "id": "48bb51ef",
   "metadata": {},
   "source": [
    "Este grafico es un poco mas ilustrativo. Vemos que, a pesar de existir ciertas anomalias/valores atipicos, la tendencia de crecimiento es lineal. Por tanto podriamos decir que la complejidad del metodo es $O(n)$"
   ]
  },
  {
   "cell_type": "markdown",
   "id": "97a578e0",
   "metadata": {},
   "source": [
    "Estimando la complejidad analíticamente...\\\n",
    "Si observamos bien el código notaremos que existen alrededor de 9 bucles que iteran n cantidad de veces; no solo los que se ven de forma explicita, sino tambien contando los bucles que se ejecutan cuando se llama a la funcion \"reverse_linked_list()\" o se hace list comprehension. Sumando estas iteraciones, llegamos al resultado $9n$ de forma exacta, sin embargo, cuando n tiende al infinito el cardinal es irrelevante, por tanto, la complejidad del algoritmo es $O(n)$.\\\n",
    "Esto coincide con las graficas del literal anterior.\\\n",
    "Colaboracion con Josue Endara"
   ]
  },
  {
   "cell_type": "markdown",
   "id": "e1515e21",
   "metadata": {},
   "source": []
  }
 ],
 "metadata": {
  "kernelspec": {
   "display_name": "Python 3.10.6 64-bit",
   "language": "python",
   "name": "python3"
  },
  "language_info": {
   "codemirror_mode": {
    "name": "ipython",
    "version": 3
   },
   "file_extension": ".py",
   "mimetype": "text/x-python",
   "name": "python",
   "nbconvert_exporter": "python",
   "pygments_lexer": "ipython3",
   "version": "3.10.6"
  },
  "vscode": {
   "interpreter": {
    "hash": "edf259275ad4a72d4dd5b452264ad5fb2b635233dff2a31edc6ebc740e55e21b"
   }
  }
 },
 "nbformat": 4,
 "nbformat_minor": 5
}
