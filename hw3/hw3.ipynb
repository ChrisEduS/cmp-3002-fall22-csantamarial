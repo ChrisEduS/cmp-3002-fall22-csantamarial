{
 "cells": [
  {
   "cell_type": "markdown",
   "id": "012eda26",
   "metadata": {},
   "source": [
    "# Homework 3"
   ]
  },
  {
   "cell_type": "markdown",
   "id": "d1c71dde",
   "metadata": {},
   "source": [
    "### 1. Merge two sorted lists\n",
    "\n",
    "1. Assume you have two sorted linked lists. Use **recursion** to merge these lists and return a new sorted list. \n",
    "\n",
    "For example:\n",
    "\n",
    "- Input: \n",
    "\n",
    "> L1 = 1 -> 3 -> 5 -> 7 -> null\n",
    "\n",
    "> L2 = 2 -> 4 -> 6 -> null\n",
    "\n",
    "- Output:\n",
    "\n",
    "> L4 = 1 -> 2 -> 3-> 4 -> 5 -> 6 -> 7 -> null\n",
    "\n",
    "2. Calculate complexity"
   ]
  },
  {
   "cell_type": "code",
   "execution_count": 32,
   "id": "41ae238f",
   "metadata": {},
   "outputs": [],
   "source": [
    "# Codigo copiado de la clase.\n",
    "class Node:\n",
    "    \"\"\"\n",
    "    Implementation of a node\n",
    "    \"\"\"\n",
    "    def __init__(self, val=None):\n",
    "        self.val = val\n",
    "        self.next_node = None\n",
    "    \n",
    "    def set_next_node(self, next_node):\n",
    "        self.next_node = next_node\n",
    "        \n",
    "class Singly_linked_list:\n",
    "    \"\"\"\n",
    "    Implementation of a singly linked list\n",
    "    \"\"\"\n",
    "    def __init__(self, head_node=None):\n",
    "        self.head_node = head_node\n",
    "        \n",
    "    def list_traversed(self):\n",
    "        node = self.head_node\n",
    "        while node:\n",
    "            print(node.val)\n",
    "            node = node.next_node\n",
    "    def insert_head(self, new_node):\n",
    "        # insert to the head\n",
    "        # A -> B -> null\n",
    "        # R -> A -> B -> null \n",
    "        new_node.set_next_node(self.head_node)\n",
    "        self.head_node = new_node\n",
    "    def insert_tail(self, new_node):\n",
    "        # insert to the tail\n",
    "        # A -> B -> null\n",
    "        # A -> B -> R -> null \n",
    "        node = self.head_node\n",
    "        prev = None\n",
    "        while node:\n",
    "            prev = node\n",
    "            node = node.next_node\n",
    "        prev.set_next_node(new_node)"
   ]
  },
  {
   "cell_type": "code",
   "execution_count": 9,
   "id": "b2ec9446",
   "metadata": {},
   "outputs": [],
   "source": [
    "# Python Decorator\n",
    "from time import time\n",
    "\n",
    "#Python decorator\n",
    "def dec_timer(passed_func):\n",
    "    def wrap(*args, **kwargs): #Inner function\n",
    "        t_init = time()*10**6 #Toma del tiempo inicial\n",
    "        result = passed_func(*args, **kwargs) #Se ejecuta la fucion a evaluar su tiempo de ejecucion\n",
    "        t_final = time()*10**6 #Toma el tiempo final\n",
    "        t_total = (t_final-t_init)\n",
    "        return (result, t_total) #Retorna el valor de la funcion de interes\n",
    "    return wrap #Completa el decorador"
   ]
  },
  {
   "cell_type": "code",
   "execution_count": 33,
   "id": "3ac17433",
   "metadata": {},
   "outputs": [],
   "source": [
    "def merge_nodes(node1, node2): # Se define una function auxiliar que recibe nodos \n",
    "                                # ya que no se puede realizar el merge directamente con las linked list\n",
    "        if not node2: #Caso base 1. Si no existe node2, retorna node1. Es como hacer merge de un elemento con otro vacio\n",
    "            return node1\n",
    "        if not node1: #Caso base 2. Equivalente al anterior caso base.\n",
    "            return node2\n",
    "        if node1.val < node2.val: # Caso base 3. \n",
    "            node1.next_node = merge_nodes(node1.next_node, node2) # Si node1<node2 seteo el node1.next_node de acuerdo al orden que me retorne la llamada recursiva\n",
    "            return node1 #Retorno node1 tal que: node1 -> ... -> ...\n",
    "        else:\n",
    "            node2.next_node = merge_nodes(node1, node2.next_node) # Equivalente al anterior.\n",
    "            return node2 #Retorno node2 tal que: node2 -> ... -> ...\n",
    "def merge_linked_lists(llist1, llist2):\n",
    "    newllist = Singly_linked_list(merge_nodes(llist1.head_node, llist2.head_node)) #Devuelvo la linked list seteando el nodo cabeza \n",
    "    return newllist"
   ]
  },
  {
   "cell_type": "code",
   "execution_count": 34,
   "id": "59c25ae2",
   "metadata": {},
   "outputs": [
    {
     "name": "stdout",
     "output_type": "stream",
     "text": [
      "First linked list\n",
      "1\n",
      "2\n",
      "5\n",
      "7\n",
      "Second linked list\n",
      "2\n",
      "4\n",
      "6\n"
     ]
    }
   ],
   "source": [
    "#Creando la primera linked list\n",
    "node11 = Node(1)\n",
    "node12 = Node(2)\n",
    "node13 = Node(5)\n",
    "node14 = Node(7)\n",
    "\n",
    "node11.set_next_node(node12)\n",
    "node12.set_next_node(node13)\n",
    "node13.set_next_node(node14)\n",
    "\n",
    "ll1 = Singly_linked_list(node11)\n",
    "print('First linked list')\n",
    "ll1.list_traversed()\n",
    "\n",
    "#Creando la segunda linked list\n",
    "node21 = Node(2)\n",
    "node22 = Node(4)\n",
    "node23 = Node(6)\n",
    "\n",
    "node21.set_next_node(node22)\n",
    "node22.set_next_node(node23)\n",
    "\n",
    "ll2 = Singly_linked_list(node21)\n",
    "print('Second linked list')\n",
    "ll2.list_traversed()\n"
   ]
  },
  {
   "cell_type": "code",
   "execution_count": 35,
   "id": "2443cf5c",
   "metadata": {},
   "outputs": [
    {
     "name": "stdout",
     "output_type": "stream",
     "text": [
      "Merged linked list\n",
      "1\n",
      "2\n",
      "2\n",
      "4\n",
      "5\n",
      "6\n",
      "7\n"
     ]
    }
   ],
   "source": [
    "# Merging the las anteriores linked lists\n",
    "newll = merge_linked_lists(ll1, ll2)\n",
    "print('Merged linked list')\n",
    "newll.list_traversed()"
   ]
  },
  {
   "cell_type": "markdown",
   "id": "8167df98",
   "metadata": {},
   "source": [
    "2.1. Complejidad merge_linked_lists()\\\n",
    "La complejidad por cada llamada recursiva de merge_nodes() (que es la que en realidad hace la mayoria de trabajo en el algoritmo) es $O(s)=O(1)$ ya que solo se estan comparando un par de nodos, uno de cada linked lists previamente ordenadas. Ahora, el numero de comparaciones de los pares de nodos (equivalente a decir llamadas recursivas) dependera del tamaño de las linked lists y siempre se realizara la operacion para todos los nodos; por lo tanto, $R=N+M$ donde N y M son representan la cantidad de nodos de cada linked list.\\\n",
    "En si, la complejidad de merge_linked_lists() es $O(N+M)$ y si $N\\rightarrow\\infty$ y $M\\rightarrow\\infty$ tal que $N+M=n$, finalmente, la complejidad es $O(n)$"
   ]
  },
  {
   "cell_type": "markdown",
   "id": "6ffd58f4",
   "metadata": {},
   "source": [
    "### 2. Implement quick sort\n",
    "\n",
    "1. Use the divide and conquer technique to implement the quick sort algorithm studied in class. \n",
    "2. Use a couple of parragraphs to explain the steps of divide and conquer:\n",
    "    - how/where do you divide?\n",
    "    - where/what do you conquer?\n",
    "    - how/what do you combine?\n",
    "3. Analyze complexity"
   ]
  },
  {
   "cell_type": "code",
   "execution_count": 27,
   "id": "b2d171fc",
   "metadata": {},
   "outputs": [],
   "source": [
    "@dec_timer\n",
    "def quick_sort(arr):\n",
    "    lower = [] # arreglo para almacenar los valores inferiores al pivote\n",
    "    higher = [] # arreglo para almacenar los valores mayores al pivote\n",
    "    if arr: # Evalua si hay elementos en el array\n",
    "        pivot = arr[0] # Selecciono un pivote arbitrario, en este caso, el primer elemento de arr\n",
    "        for i in arr[1:]: # Itero desde el elemento 1 de arr en adelante\n",
    "            if i <= pivot: # En caso de que exista un elemento igual al pivote tambien consideramos el caso i==pivot.\n",
    "                lower.append(i) # Agrega a lower los elementos menores al pivote\n",
    "            elif i > pivot:\n",
    "                higher.append(i) # Agrega a higher los elementos mayores al pivote\n",
    "        return quick_sort(lower)[0]+[pivot]+quick_sort(higher)[0] # concatena en orden. LLamada recursiva\n",
    "    else:\n",
    "        return arr # Retorna arr si ya esta vacia\n",
    "    "
   ]
  },
  {
   "cell_type": "code",
   "execution_count": 37,
   "id": "fe198cf1",
   "metadata": {},
   "outputs": [
    {
     "name": "stdout",
     "output_type": "stream",
     "text": [
      "[1, 2, 2, 3, 4, 7, 7, 8, 9, 21]\n"
     ]
    }
   ],
   "source": [
    "# Testeando quick_sort() anteriormente implementada\n",
    "arr = [1, 4, 2, 7, 9, 3, 7, 8, 2, 21]\n",
    "arr_sorted = quick_sort(arr)[0]\n",
    "print(arr_sorted)"
   ]
  },
  {
   "cell_type": "markdown",
   "id": "a87d0200",
   "metadata": {},
   "source": [
    "2. Quick sort es un algoritmo clasico de divide and conquer. La manera en la que funciona es seleccionar un elemento de la permutacion como un pivote y, a partir de ello dividir la permutacion en dos sublistas: una donde se encuentren todos los valores menores al pivote y, en la otra, todos los valores mayores al pivote. Este proceso se repite hasta que solo quede el pivote y un elemento sea inferior o superior, en ese momento se comienza a combinar las sublistas ordenadas con los pivotes.\\\n",
    "En la anterior explicacion hay puntos y palabras clave que dan pistas de donde sucede divide, conquer y combine. La division (divide) se da al momento de escoger el pivote y almacenar los valores inferiores y mayores en dos sublistas. Este proceso continua hasta llegar al caso base: solo se tiene una sublista (inferior o superior) con un elemento con el cual realizamos la ultima comparacion y la otra sublista esta vacia. Esto vendria a ser la conquista (conquer). Finalmente, con la ultima comparacion realizada empezamos a concatenar los pivotes y las sublistas, tal que: lower_array+[pivot]+higher_array. Asi, se resuelven todas las llamadas recursivas; esta es la combinacion (combine)."
   ]
  },
  {
   "cell_type": "markdown",
   "id": "b1a4d55a",
   "metadata": {},
   "source": [
    "3. Complejidad de Quick Sort\\\n",
    "Quick Sort funciona de una manera similar a Merge Sort, por lo que sus complejidades deberian ser similares tambien.\\\n",
    "En Quick sort, por cada llamada recursiva se escoge un pivote y se itera en una sublista realizando comparaciones, por tanto, $O(s)=n$. Ahora, dado que la permutacion original se esta dividiendo en 2 constantemente (hasta llegar al caso base) aquello podria entenderse como los niveles de su arbol de recursion, por lo tanto, $R=log(n)$ como se estudio en clases.\\\n",
    "En general, la complejidad de quick sort seria $O(nlog(n))$.\\\n",
    "Sin embargo, a diferencia de merge sort (cuyo peor caso igual seguia siendo $O(nlog(n))$), quick sort tiene una complejidad distinta cuando se nos presenta el peor de los casos. Si consideramos una lista ya ordenada, a la hora de realizar las llamadas recursivas e iterar para conseguir las sublistas, solo obtendremos valores en higher de tamaño n-1, n-2, n-3, ..., en otras palabras estaremos iterando en la lista dos veces. Por tanto, en el peor de los casos la complejidad de quick sort es $O(n^2)$."
   ]
  },
  {
   "cell_type": "markdown",
   "id": "3503cba8",
   "metadata": {},
   "source": [
    "### 3. Compare quick sort and merge sort\n",
    "\n",
    "1. Generate 1000 random permutations of arrays of integers between 1 to 10000.\n",
    "2. Execute merge sort and quick sort for each of the permutations\n",
    "3. Calculate the execution time of these runs, and compare them using the statistics of the measured executed time.\n",
    "4. Explain the differences. Which algorithm is better? When would you use each?"
   ]
  },
  {
   "cell_type": "code",
   "execution_count": 40,
   "id": "693a01b5",
   "metadata": {},
   "outputs": [],
   "source": [
    "import random\n",
    "\n",
    "#Las siguientes dos funciones permiten generar una permutacion de numeros del 1 a n.\n",
    "def get_rand_num(v) :\n",
    "    n = len(v)\n",
    "    ind = random.randint(0, n - 1) # indice aleatorio. Importante para obtener la permutacion aleatoria\n",
    "    num = v[ind]\n",
    "    # Remueve el numero de la lista\n",
    "    v[ind], v[n - 1] = v[n - 1], v[ind]\n",
    "    v.pop()\n",
    "    # Retorna el numero popeado.\n",
    "    return num\n",
    " \n",
    "def generateRandomArr(n) :\n",
    "    perm = [] \n",
    "    v = []\n",
    "    for i in range(n) :\n",
    "        v.append(i+1) # Agrega los valores de 1 a n en orden\n",
    " \n",
    "    while (len(v)) :\n",
    "        perm.append(get_rand_num(v)) # Con la lista v ordenada se crea la permutacion aleatoria\n",
    "    return perm"
   ]
  },
  {
   "cell_type": "code",
   "execution_count": 41,
   "id": "d4478a75",
   "metadata": {},
   "outputs": [],
   "source": [
    "#Codigo de clases\n",
    "def merge(left, right):\n",
    "    left_pointer = 0\n",
    "    right_pointer = 0\n",
    "    sorted_list = []\n",
    "    while left_pointer < len(left) and right_pointer < len(right):\n",
    "        if left[left_pointer] < right[right_pointer]:\n",
    "            sorted_list.append(left[left_pointer])\n",
    "            left_pointer += 1\n",
    "        else:\n",
    "            sorted_list.append(right[right_pointer])\n",
    "            right_pointer += 1\n",
    "    \n",
    "    sorted_list.extend(left[left_pointer:])\n",
    "    sorted_list.extend(right[right_pointer:])\n",
    "    \n",
    "    return sorted_list\n",
    "\n",
    "@dec_timer # Se aumenta el decorador para medir el tiempo\n",
    "def merge_sort(nums):\n",
    "    if len(nums) <= 1:\n",
    "        return nums\n",
    "    pivot = int(len(nums) / 2)\n",
    "    left = merge_sort(nums[0:pivot])[0]\n",
    "    right = merge_sort(nums[pivot:])[0]\n",
    "    return merge(left, right)"
   ]
  },
  {
   "cell_type": "code",
   "execution_count": 45,
   "id": "8eff097f",
   "metadata": {},
   "outputs": [],
   "source": [
    "# Obtencion de los tiempos utilizando quick sort y merge sort.\n",
    "quick_sort_times = []\n",
    "merge_sort_times = []\n",
    "n = range(10000)\n",
    "for i in n:\n",
    "    rand_perm = generateRandomArr(i)\n",
    "    quick_sort_times.append(quick_sort(rand_perm)[1])\n",
    "    merge_sort_times.append(merge_sort(rand_perm)[1])"
   ]
  },
  {
   "cell_type": "code",
   "execution_count": 16,
   "id": "2e6408a7",
   "metadata": {},
   "outputs": [],
   "source": [
    "import pandas as pd\n",
    "import matplotlib.pyplot as plt"
   ]
  },
  {
   "cell_type": "code",
   "execution_count": 46,
   "id": "d641af97",
   "metadata": {},
   "outputs": [
    {
     "data": {
      "image/png": "[encoded data removed]",
      "text/plain": [
       "<Figure size 640x480 with 1 Axes>"
      ]
     },
     "metadata": {},
     "output_type": "display_data"
    }
   ],
   "source": [
    "# Graficacion de los tiempos tomados para los algoritmos quick sort y merge sort.\n",
    "df_sorting_times = pd.DataFrame()\n",
    "df_sorting_times['n'] = n\n",
    "df_sorting_times['quick sort times'] = quick_sort_times\n",
    "df_sorting_times['merge sort times'] = merge_sort_times\n",
    "\n",
    "df_sorting_times.plot(x='n', logy=True)\n",
    "plt.xlabel('n')\n",
    "plt.show()"
   ]
  },
  {
   "cell_type": "markdown",
   "id": "e1bb3aba",
   "metadata": {},
   "source": [
    "4. A pesar de que la grafica no representa logaritmos perfectos, es notable que sigue dicha tendencia. Segun este plot de los tiempos de ejecucion, por lo general, elegir quick sort es una mejor opcion antes que merge sort ya que le toma menos tiempo ordenar una permutacion conforme esta aumenta su tamaño. Es verdad que cuando la lista ya esta ordenada, quick sort tiene una complejidad mayor a merge sort, sin embargo, realmente es ilogico ordenar algo ya ordenado, entonces mantendria esta preferencia por quick sort antes que merge."
   ]
  },
  {
   "cell_type": "markdown",
   "id": "e43b0016",
   "metadata": {},
   "source": [
    "### 4. Implement factorials with recursion\n",
    "\n",
    "Recall that a factorial number is defined as:\n",
    "\n",
    "$k! = k \\times (k-1) \\times (k-2) \\times ... \\times 2 \\times 1$\n",
    "\n",
    "For example: $3! = 3 \\times 2 \\times 1 = 6$\n",
    "\n",
    "1. Use recursion to implement the factorial\n",
    "2. Run your code for numbers between 1 and 10000\n",
    "3. Calculate the execution time and plot it. \n",
    "4. What's the complexity?\n",
    "5. Implement memoization to improve the performance of your code\n",
    "6. Measure the runtime when you calculate the factorial for numbers between 1 and 10000.\n",
    "7. What's the complexity of your code using memoization?\n",
    "8. How does the first implementation and the one with memoization compare?\n"
   ]
  },
  {
   "cell_type": "code",
   "execution_count": 5,
   "id": "8a7fb0a3",
   "metadata": {},
   "outputs": [],
   "source": [
    "#1\n",
    "@dec_timer\n",
    "def factorial(k):\n",
    "    if k == 0: # Por definicion matematica 0! = 1. Seria el caso base.\n",
    "        return 1\n",
    "    else:\n",
    "        return k*factorial(k-1) # Por definicion recursiva del factorial k! = k*(k-1)!"
   ]
  },
  {
   "cell_type": "code",
   "execution_count": 15,
   "id": "110fcaaa",
   "metadata": {},
   "outputs": [],
   "source": [
    "#2\n",
    "nums = [100, 200, 300, 500, 600, 750, 900, 950] # Kernel dies with integers >980\n",
    "fact_times = []\n",
    "for i in nums:\n",
    "    fact_times.append(factorial(i)[1]) # Obteniendo los tiempos usando la funcion factorial(k)\n"
   ]
  },
  {
   "cell_type": "code",
   "execution_count": 16,
   "id": "21f80ef2",
   "metadata": {},
   "outputs": [
    {
     "data": {
      "image/png": "[encoded data removed]",
      "text/plain": [
       "<Figure size 640x480 with 1 Axes>"
      ]
     },
     "metadata": {},
     "output_type": "display_data"
    }
   ],
   "source": [
    "# 3 Graficacion de los tiempos de la funcion factorial(k)\n",
    "df_fact_times = pd.DataFrame()\n",
    "df_fact_times['n'] = nums\n",
    "df_fact_times['fact_times'] = fact_times\n",
    "\n",
    "df_fact_times.plot(x='n')\n",
    "plt.xlabel('n')\n",
    "plt.show()"
   ]
  },
  {
   "cell_type": "markdown",
   "id": "71f78468",
   "metadata": {},
   "source": [
    "Considerar que el grafico no es para nada bueno, esto debido a mi ordenador que tiene preestablecido el numero maximo de iteraciones como 1000. Aun asi, se podria decir que tiene cierta tendencia lineal."
   ]
  },
  {
   "cell_type": "markdown",
   "id": "62aa384d",
   "metadata": {},
   "source": [
    "4. En cada llamada recursiva solo se evalua si se llego al caso base, caso contrario realiza una nueva llamada, entonces $O(s)=O(1)$. El numero de llamadas recursivas es $R=n$ porque en cada llamada se decrementa el valor de k en 1 hasta llegar al caso base que es 0. Entonces la complejidad de la funcion es $O(n)$"
   ]
  },
  {
   "cell_type": "code",
   "execution_count": 23,
   "id": "43dede35",
   "metadata": {},
   "outputs": [],
   "source": [
    "#5 Memoization Factorial\n",
    "prev_fact = {} # Los factoriales calculados se almacenan en este diccionario\n",
    "@dec_timer\n",
    "def mfactorial(k):\n",
    "    if k == 0: # Caso base. Igual que en factorial(k)\n",
    "        return 1\n",
    "    if k in prev_fact: # Evalua si el factorial de k ya se calculo previamente en anteriores corridas de codigo\n",
    "        return prev_fact[k] # Retorna el valor almacenado del factorial\n",
    "    else: # En caso de no haberse ejecutado el factorial de k en corridas previas de codigo.\n",
    "        prev_fact[k] = k*mfactorial(k-1) # Se guarda en el diccionario los factoriales. Si se ejecuta memo_factorial(20) entonces\n",
    "                                             # se guardan: 1!, 2!, 3!, 4!, ..., 19!, 20!\n",
    "        return prev_fact[k] # Retorna el valor de memo_factorial(k) solicitado.\n",
    "    \n",
    "    #Ejercicio hecho en colaboracion con Josue Endara"
   ]
  },
  {
   "cell_type": "code",
   "execution_count": 24,
   "id": "d477100a",
   "metadata": {},
   "outputs": [],
   "source": [
    "#Obteniendo los tiempos de la funcion mfactorial(k)\n",
    "mem_nums = range(1, 10000, 10)\n",
    "mem_fact_times = []\n",
    "for i in mem_nums:\n",
    "    mem_fact_times.append(mfactorial(i)[1])"
   ]
  },
  {
   "cell_type": "code",
   "execution_count": 25,
   "id": "90c165ae",
   "metadata": {},
   "outputs": [
    {
     "data": {
      "image/png": "[encoded data removed]",
      "text/plain": [
       "<Figure size 640x480 with 1 Axes>"
      ]
     },
     "metadata": {},
     "output_type": "display_data"
    }
   ],
   "source": [
    "#6\n",
    "#  Graficacion de los tiempos de mfactorial(k)\n",
    "df_memfact_times = pd.DataFrame()\n",
    "df_memfact_times['n'] = mem_nums\n",
    "df_memfact_times['fact_times'] = mem_fact_times\n",
    "\n",
    "df_memfact_times.plot(x='n')\n",
    "plt.xlabel('n')\n",
    "plt.show()"
   ]
  },
  {
   "cell_type": "markdown",
   "id": "b4720c95",
   "metadata": {},
   "source": [
    "7. Por la implementacion del algoritmo es evidente que para que realmente exista una mejora de tiempo, se debe correr el algoritmo varias veces. Es decir, si la primera vez que corro $mfactorial(k)$ con $k=5000$, el algoritmo hara las 50000 llamadas recursivas ya que no hay datos almacenados en el diccionario (la clave de la memorizacion). Luego de ello, si hacemos $mfactorial(k=5)$ pues esto sera $O(1)$ porque el factorial de 5 si esta almacenado en el diccionario. Esto se cumple para todos los valores inferiores o iguales a 5000 (para el presente ejemplo).\\\n",
    "Ahora, si ejecutamos $mfactorial(k=5050)$ el algoritmo solo realizara llamadas recursivas hasta llegar a 5000 ya que 5000! esta almacenado en el diccionario.\\\n",
    "Por esta explicacion y por lo observado en el grafico de los tiempos, se puede decir que la complejidad tiende a ser $O(1)$"
   ]
  },
  {
   "cell_type": "markdown",
   "id": "5f316049",
   "metadata": {},
   "source": [
    "8. Considerando la explicacion brindada en el literal anterior, pues la diferencia es clara. Mientras que el algoritmo para calcular el factorial sin memorizacion realiza todas las multiplicaciones tal que $k*(k-1)*(k-2)*...*1$ SIEMPRE; el algoritmo que usa memorizacion aprovecha los resultados previamente conocidos para evitarse recalcular las multiplicaciones, es decir, si se conoce $m!$ (esta almacenado en el diccionario) y queremos calcular $k!$ tal que $m<k$ entonces el algoritmo calculara: $k*(k-1)*(k-2)*...*m!$ que computacionalmente resulta menos costoso, evidentemente."
   ]
  }
 ],
 "metadata": {
  "kernelspec": {
   "display_name": "Python 3.10.6 64-bit",
   "language": "python",
   "name": "python3"
  },
  "language_info": {
   "codemirror_mode": {
    "name": "ipython",
    "version": 3
   },
   "file_extension": ".py",
   "mimetype": "text/x-python",
   "name": "python",
   "nbconvert_exporter": "python",
   "pygments_lexer": "ipython3",
   "version": "3.10.6"
  },
  "vscode": {
   "interpreter": {
    "hash": "edf259275ad4a72d4dd5b452264ad5fb2b635233dff2a31edc6ebc740e55e21b"
   }
  }
 },
 "nbformat": 4,
 "nbformat_minor": 5
}
